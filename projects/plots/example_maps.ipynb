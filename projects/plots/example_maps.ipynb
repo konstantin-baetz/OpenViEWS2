{
 "cells": [
  {
   "cell_type": "code",
   "execution_count": null,
   "metadata": {},
   "outputs": [],
   "source": [
    "import matplotlib.pyplot as plt\n",
    "import geopandas\n",
    "import contextily as ctx\n",
    "import views\n",
    "import views.apps.plot.maps as maps"
   ]
  },
  {
   "cell_type": "code",
   "execution_count": null,
   "metadata": {},
   "outputs": [],
   "source": [
    "import logging\n",
    "logging.basicConfig(\n",
    "    level=logging.INFO,\n",
    "    format=views.config.LOGFMT,\n",
    "    handlers=[\n",
    "        logging.StreamHandler(),\n",
    "    ],\n",
    ")\n",
    "log = logging.getLogger(__name__)"
   ]
  },
  {
   "cell_type": "code",
   "execution_count": null,
   "metadata": {},
   "outputs": [],
   "source": [
    "mapdata = views.apps.plot.maps.MapData()"
   ]
  },
  {
   "cell_type": "code",
   "execution_count": null,
   "metadata": {},
   "outputs": [],
   "source": [
    "gdf_pgm = views.GEOMETRIES[\"GeomPriogrid\"].gdf\n",
    "df_pg_c = views.TABLES[\"skeleton.pg_c\"].df.rename(\n",
    "    columns={\"country_id\": \"geo_country_id\"}\n",
    ")\n",
    "gdf_pgm.join(df_pg_c)"
   ]
  },
  {
   "cell_type": "code",
   "execution_count": null,
   "metadata": {},
   "outputs": [],
   "source": [
    "col = \"decay_12_time_since_ged_dummy_ns\""
   ]
  },
  {
   "cell_type": "code",
   "execution_count": null,
   "metadata": {},
   "outputs": [],
   "source": [
    "df = views.DATASETS[\"pgm_africa_imp_0\"].df[[col]]"
   ]
  },
  {
   "cell_type": "markdown",
   "metadata": {},
   "source": [
    "### Using the mapper\n",
    "As we've tried to ensure that old code remains compatible with the current mapper, `plot_map` comes with a few defaults that relate to predicted probabilities only. **Defaults are (currently) triggered when no `cmap` is explicitly provided.** In that case, `logodds=True` will give the labels for logodds and shift the rainbow map accordingly, while `logodds=False` sets the cbar up for general probabilties.\n",
    "\n",
    "Note that if you do not want to plot with default settings, set a cmap and set logodds to False (you can of course also set logodds to True as long as the outcome is a probability)."
   ]
  },
  {
   "cell_type": "code",
   "execution_count": null,
   "metadata": {},
   "outputs": [],
   "source": [
    "maps.plot_map(\n",
    "    s_patch=df[col], \n",
    "    mapdata=mapdata, \n",
    "    cmap=\"viridis\", \n",
    "    logodds=False, \n",
    "    t=450, \n",
    "    bbox=\"mainland_africa\"\n",
    ")"
   ]
  },
  {
   "cell_type": "markdown",
   "metadata": {},
   "source": [
    "A lot of elements are adjustable. Please see the docstring for more details. \n",
    "\n",
    "Note that you can for instance set the tick values and labels, set a custom textbox over any number of lines, and pick a country_id:"
   ]
  },
  {
   "cell_type": "code",
   "execution_count": null,
   "metadata": {},
   "outputs": [],
   "source": [
    "tick_values=[0.2, 0.6, 1]\n",
    "\n",
    "maps.plot_map(\n",
    "    s_patch=df[col], \n",
    "    t=450,\n",
    "    cmap=\"viridis\", \n",
    "    mapdata=mapdata, \n",
    "    textbox=\"two-line\\ncustom text\", \n",
    "    logodds=False,\n",
    "    #bbox=\"mainland_africa\", # Disable this to zoom in on a country.\n",
    "    tick_values=tick_values,\n",
    "    tick_labels=[f\"{i}!\" for i in tick_values],\n",
    "    country_id=70,\n",
    "    bbox_pad=[-5, 3, -2, 1],\n",
    "    title=\"Central African Republic at t\"\n",
    ")"
   ]
  },
  {
   "cell_type": "markdown",
   "metadata": {},
   "source": [
    "If you want to plot simple markers for dummies of observed violence for instance, use `s_marker` (the resulting warning is a TODO):"
   ]
  },
  {
   "cell_type": "code",
   "execution_count": null,
   "metadata": {},
   "outputs": [],
   "source": [
    "df = views.DATASETS[\"cm_africa_imp_0\"].df[[\"ln_fvp_timeindep\", \"ged_dummy_sb\"]]\n",
    "\n",
    "fig, ax = maps.plot_map(\n",
    "    s_patch=df[\"ln_fvp_timeindep\"], \n",
    "    s_marker=df[\"ged_dummy_sb\"],\n",
    "    bbox_pad=[-5, 3, -2, 1], \n",
    "    mapdata=mapdata, \n",
    "    cmap=\"viridis\", \n",
    "    logodds=False, \n",
    "    t=450,\n",
    "    ymin=0,\n",
    "    ymax=6,\n",
    "    bbox=\"mainland_africa\",\n",
    "    size_cborder=0\n",
    ")"
   ]
  },
  {
   "cell_type": "markdown",
   "metadata": {},
   "source": [
    "Country and priogrid borders are integrated into the plot_map function (you can make them invisible by setting their size to 0). If you'd like to plot any other geographical information, simply plot into ax and then plot another layer.\n",
    "\n",
    "This can be any shapefile/geojson/other sourced locally or from a url (note that you may need to subset it):"
   ]
  },
  {
   "cell_type": "code",
   "execution_count": null,
   "metadata": {},
   "outputs": [],
   "source": [
    "df = views.DATASETS[\"pgm_africa_imp_0\"].df[[col]]\n",
    "cities = geopandas.read_file(geopandas.datasets.get_path('naturalearth_cities'))\n",
    "\n",
    "fig, ax = maps.plot_map(\n",
    "    s_patch=df[col], \n",
    "    bbox_pad=[-5, 3, -2, 1], \n",
    "    mapdata=mapdata, \n",
    "    cmap=\"Blues\", \n",
    "    logodds=False, \n",
    "    t=450,\n",
    "    bbox=\"mainland_africa\",\n",
    "    size_gridborder=0\n",
    ")\n",
    "cities.plot(color='red', ax=ax, zorder=1)  # You can place the layer in any z-order."
   ]
  },
  {
   "cell_type": "markdown",
   "metadata": {},
   "source": [
    "Or use contextily for basemaps, which uses imshow to put tiles in the background. Note that you'll need alpha in this case. Contextily comes with a lot of providers of fancy maps: see `ctx.providers`."
   ]
  },
  {
   "cell_type": "code",
   "execution_count": null,
   "metadata": {},
   "outputs": [],
   "source": [
    "fig, ax = maps.plot_map(\n",
    "    s_patch=df[col], \n",
    "    bbox_pad=[-5, 3, -2, 1], \n",
    "    mapdata=mapdata, \n",
    "    cmap=\"viridis\", \n",
    "    logodds=False, \n",
    "    t=450,\n",
    "    bbox=\"mainland_africa\",\n",
    "    size_cborder=0,\n",
    "    alpha=0.3\n",
    ")\n",
    "ctx.add_basemap(\n",
    "    ax, \n",
    "    crs=4326, # You have to specify WGS84 (EPSG:4326).\n",
    "    source=ctx.providers.CartoDB.Voyager, \n",
    "    attribution=False  # Remove ugly attribution text.\n",
    ")"
   ]
  },
  {
   "cell_type": "markdown",
   "metadata": {},
   "source": [
    "This also works for country subsets:"
   ]
  },
  {
   "cell_type": "code",
   "execution_count": null,
   "metadata": {},
   "outputs": [],
   "source": [
    "fig, ax = maps.plot_map(\n",
    "    s_patch=df[col], \n",
    "    bbox_pad=[-5, 3, -2, 1], \n",
    "    mapdata=mapdata, \n",
    "    country_id=70, \n",
    "    cmap=\"viridis\", \n",
    "    logodds=False, \n",
    "    t=450,\n",
    "    alpha=0.5,\n",
    "    size_cborder=0\n",
    ")\n",
    "ctx.add_basemap(\n",
    "    ax, \n",
    "    crs=4326,  # You have to specify WGS84 (EPSG:4326).\n",
    "    source=ctx.providers.CartoDB.Voyager, \n",
    "    attribution=False\n",
    ")"
   ]
  },
  {
   "cell_type": "markdown",
   "metadata": {},
   "source": [
    "A very cool feature of contextily is that it allows you to set a zoom level. If you don't provide it, as in the example above, it automatically calculates the appropriate zoom. But you can force more detail (or less!) if you wish. In that case you have to play around a little to find the right value. A higher zoom than the automatic one is usually harder to read unless you really blow it up:"
   ]
  },
  {
   "cell_type": "code",
   "execution_count": null,
   "metadata": {},
   "outputs": [],
   "source": [
    "fig, ax = maps.plot_map(\n",
    "    s_patch=df[col], \n",
    "    bbox_pad=[-5, 3, -2, 1], \n",
    "    mapdata=mapdata, \n",
    "    country_id=70, \n",
    "    cmap=\"viridis\", \n",
    "    logodds=False, \n",
    "    t=450,\n",
    "    alpha=0.5,\n",
    "    size_cborder=0,\n",
    "    fig_scale=0.8\n",
    ")\n",
    "ctx.add_basemap(\n",
    "    ax, \n",
    "    crs=4326, \n",
    "    source=ctx.providers.CartoDB.Voyager, \n",
    "    attribution=False,\n",
    "    zoom=7\n",
    ")"
   ]
  },
  {
   "cell_type": "markdown",
   "metadata": {},
   "source": [
    "What if your data is categorical? Just pass in `categorical=True` to get a legend instead of a colorbar, according to your colorscheme. "
   ]
  },
  {
   "cell_type": "code",
   "execution_count": null,
   "metadata": {},
   "outputs": [],
   "source": [
    "df = views.DATASETS[\"cm_africa_imp_0\"].df[[\"ged_dummy_sb\"]]\n",
    "\n",
    "fig, ax = maps.plot_map(\n",
    "    s_patch=df[\"ged_dummy_sb\"], \n",
    "    mapdata=mapdata, \n",
    "    cmap=\"Reds\", \n",
    "    logodds=False, \n",
    "    t=450, \n",
    "    bbox=\"mainland_africa\",\n",
    "    categorical=True\n",
    ")"
   ]
  },
  {
   "cell_type": "markdown",
   "metadata": {},
   "source": [
    "Often your categories will be integers. To put string labels in your legend instead, you can use the `label_categories` function, which takes in either an ordered list of replaces, or a dictionary mapping the keys to the new values:"
   ]
  },
  {
   "cell_type": "code",
   "execution_count": null,
   "metadata": {},
   "outputs": [],
   "source": [
    "replaces = [\"Armed conflict absent\", \"Armed conflict present\"]\n",
    "\n",
    "fig, ax = maps.plot_map(\n",
    "    s_patch=df[\"ged_dummy_sb\"], \n",
    "    mapdata=mapdata, \n",
    "    cmap=\"Reds\", \n",
    "    logodds=False, \n",
    "    t=450, \n",
    "    bbox=\"mainland_africa\",\n",
    "    categorical=True\n",
    ")\n",
    "\n",
    "maps.label_categories(labels=replaces, ax=ax)"
   ]
  },
  {
   "cell_type": "code",
   "execution_count": null,
   "metadata": {},
   "outputs": [],
   "source": [
    "replaces = {0: \"Armed conflict absent\", 1: \"Armed conflict present\"}\n",
    "\n",
    "fig, ax = maps.plot_map(\n",
    "    s_patch=df[\"ged_dummy_sb\"], \n",
    "    mapdata=mapdata, \n",
    "    cmap=\"Reds\", \n",
    "    logodds=False, \n",
    "    t=450, \n",
    "    bbox=\"mainland_africa\",\n",
    "    categorical=True\n",
    ")\n",
    "\n",
    "maps.label_categories(labels=replaces, ax=ax)"
   ]
  }
 ],
 "metadata": {
  "kernelspec": {
   "display_name": "Python 3",
   "language": "python",
   "name": "python3"
  },
  "language_info": {
   "codemirror_mode": {
    "name": "ipython",
    "version": 3
   },
   "file_extension": ".py",
   "mimetype": "text/x-python",
   "name": "python",
   "nbconvert_exporter": "python",
   "pygments_lexer": "ipython3",
   "version": "3.8.0"
  }
 },
 "nbformat": 4,
 "nbformat_minor": 4
}
